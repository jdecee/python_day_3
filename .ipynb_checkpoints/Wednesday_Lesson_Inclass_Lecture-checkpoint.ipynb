{
 "cells": [
  {
   "cell_type": "markdown",
   "metadata": {},
   "source": [
    "# Data Collections 2 (Dictionaries, Sets) and Importing Modules"
   ]
  },
  {
   "cell_type": "markdown",
   "metadata": {},
   "source": [
    "## Tasks Today:\n",
    "\n",
    "1) Dictionary <br>\n",
    " &nbsp;&nbsp;&nbsp;&nbsp; a) Declaring (key, value) <br>\n",
    " &nbsp;&nbsp;&nbsp;&nbsp; b) Accessing Values <br>\n",
    " &nbsp;&nbsp;&nbsp;&nbsp; ------ Exercise #1 - Print the eye color of each person in a double nested dict <br>\n",
    " &nbsp;&nbsp;&nbsp;&nbsp; c) Adding New Pairs <br>\n",
    " &nbsp;&nbsp;&nbsp;&nbsp; d) Modifying Values <br>\n",
    " &nbsp;&nbsp;&nbsp;&nbsp; e) Removing Key, Value Pairs <br>\n",
    " &nbsp;&nbsp;&nbsp;&nbsp; f) Looping a Dictionary <br>\n",
    " &nbsp;&nbsp;&nbsp;&nbsp; g) Looping Only Keys <br>\n",
    " &nbsp;&nbsp;&nbsp;&nbsp; h) Looping Only Values <br>\n",
    " &nbsp;&nbsp;&nbsp;&nbsp; ------ Exercise #2 - Create a Function that Prints All Key Value Pairs within a print .format()  <br>\n",
    " &nbsp;&nbsp;&nbsp;&nbsp; i) sorted() <br>\n",
    " &nbsp;&nbsp;&nbsp;&nbsp; j) Lists with Dictionaries <br>\n",
    " &nbsp;&nbsp;&nbsp;&nbsp; k) Dictionaries with Lists <br>\n",
    " &nbsp;&nbsp;&nbsp;&nbsp; l) Dictionaries with Dictionaries <br>\n",
    " &nbsp;&nbsp;&nbsp;&nbsp; ------ Exercise #3 - Write a Function that asks someone's name and address, and then stores that into a dictionary, which prints all names and addresses after they're done putting information in...  <br>\n",
    "2) Dictionaries vs. Lists (over time)<br>\n",
    "3) Set <br>\n",
    " &nbsp;&nbsp;&nbsp;&nbsp; a) Declaring <br>\n",
    " &nbsp;&nbsp;&nbsp;&nbsp; b) .add() <br>\n",
    " &nbsp;&nbsp;&nbsp;&nbsp; c) .remove() <br>\n",
    " &nbsp;&nbsp;&nbsp;&nbsp; d) .union() <br>\n",
    " &nbsp;&nbsp;&nbsp;&nbsp; e) .intersection() <br>\n",
    " &nbsp;&nbsp;&nbsp;&nbsp; f) .difference() <br>\n",
    " &nbsp;&nbsp;&nbsp;&nbsp; g) Frozen Set <br>\n",
    "4) Modules <br>\n",
    " &nbsp;&nbsp;&nbsp;&nbsp; a) Importing Entire Modules <br>\n",
    " &nbsp;&nbsp;&nbsp;&nbsp; b) Importing Methods Only <br>\n",
    " &nbsp;&nbsp;&nbsp;&nbsp; c) Using the 'as' Keyword <br>\n",
    " &nbsp;&nbsp;&nbsp;&nbsp; d) Creating a Module <br>\n",
    "5) Exercises <br>\n",
    " &nbsp;&nbsp;&nbsp;&nbsp; a) Build a Shopping Cart <br>\n",
    " &nbsp;&nbsp;&nbsp;&nbsp; b) Create Your Own Module <br>"
   ]
  },
  {
   "cell_type": "markdown",
   "metadata": {},
   "source": [
    "## Dictionary <br>\n",
    "<p>An unorder collection of data with 'key:value' pairs. Dictionaries are ordered as of Python 3.6</p>"
   ]
  },
  {
   "cell_type": "markdown",
   "metadata": {},
   "source": [
    "##### Declaring (key, value)"
   ]
  },
  {
   "cell_type": "code",
   "execution_count": 3,
   "metadata": {},
   "outputs": [
    {
     "name": "stdout",
     "output_type": "stream",
     "text": [
      "{}\n",
      "<class 'dict'>\n",
      "{}\n",
      "<class 'dict'>\n",
      "{'joe': '123 Real Street', 'annie': '321 Fake Street', 1: 'This is the value for key 1'}\n",
      "<class 'dict'>\n"
     ]
    }
   ],
   "source": [
    "# keys must be unique\n",
    "# keys can be strings, numbers, and tuples\n",
    "\n",
    "# Create empty dictionary\n",
    "dictionary_1 = {}\n",
    "\n",
    "print(dictionary_1)\n",
    "print(type(dictionary_1))\n",
    "\n",
    "# or\n",
    "\n",
    "dictionary_2 = dict()\n",
    "\n",
    "print(dictionary_1)\n",
    "print(type(dictionary_1))\n",
    "\n",
    "#create a non-empty dictionary\n",
    "dictionary_3 = {\n",
    "    'joe': '123 Real Street',\n",
    "    'annie': '321 Fake Street',\n",
    "    1: 'This is the value for key 1'\n",
    "}\n",
    "\n",
    "print(dictionary_3)\n",
    "print(type(dictionary_3))"
   ]
  },
  {
   "cell_type": "markdown",
   "metadata": {},
   "source": [
    "##### Accessing Values"
   ]
  },
  {
   "cell_type": "code",
   "execution_count": 4,
   "metadata": {},
   "outputs": [
    {
     "data": {
      "text/plain": [
       "'This is the value for key 1'"
      ]
     },
     "execution_count": 4,
     "metadata": {},
     "output_type": "execute_result"
    }
   ],
   "source": [
    "# dict[key]\n",
    "\n",
    "dictionary_3[1]"
   ]
  },
  {
   "cell_type": "code",
   "execution_count": 6,
   "metadata": {},
   "outputs": [
    {
     "name": "stdout",
     "output_type": "stream",
     "text": [
      "123 Real Street\n",
      "<class 'str'>\n"
     ]
    }
   ],
   "source": [
    "joe_address = dictionary_3['joe']\n",
    "print(joe_address)\n",
    "print(type(joe_address))"
   ]
  },
  {
   "cell_type": "markdown",
   "metadata": {},
   "source": [
    "## In-Class Exercise #1 - Print a formatted statement from the dictionary below <br>\n",
    "<p>The output should be '2018 Chevrolet Silverado'</p>"
   ]
  },
  {
   "cell_type": "code",
   "execution_count": 24,
   "metadata": {},
   "outputs": [
    {
     "name": "stdout",
     "output_type": "stream",
     "text": [
      "The output should be 2018 Chevrolet Silverado\n"
     ]
    }
   ],
   "source": [
    "# use the dict below\n",
    "truck = {\n",
    "    'year': 2018,\n",
    "    'make': 'Chevrolet',\n",
    "    'model': 'Silverado'\n",
    "}\n",
    "\n",
    "print (\"The output should be \" + str(truck['year']) + \" \" + truck['make'] + \" \" + truck['model'])\n",
    "\n"
   ]
  },
  {
   "cell_type": "markdown",
   "metadata": {},
   "source": [
    "##### Adding New Pairs"
   ]
  },
  {
   "cell_type": "code",
   "execution_count": 29,
   "metadata": {},
   "outputs": [
    {
     "data": {
      "text/plain": [
       "{'joe': '123 Real Street',\n",
       " 'annie': '321 Fake Street',\n",
       " 1: 'This is the value for key 1',\n",
       " 'sean': '555 Columbus Drive'}"
      ]
     },
     "execution_count": 29,
     "metadata": {},
     "output_type": "execute_result"
    }
   ],
   "source": [
    "# dict['key'] = value\n",
    "\n",
    "dictionary_3['sean'] = '555 Columbus Drive'\n",
    "\n",
    "dictionary_3"
   ]
  },
  {
   "cell_type": "markdown",
   "metadata": {},
   "source": [
    "##### Modifying Values"
   ]
  },
  {
   "cell_type": "code",
   "execution_count": 32,
   "metadata": {},
   "outputs": [
    {
     "data": {
      "text/plain": [
       "{'joe': '123 Real Street',\n",
       " 'annie': '321 Fake Street',\n",
       " 1: 'This is the value for key 1',\n",
       " 'sean': '777 State Street'}"
      ]
     },
     "execution_count": 32,
     "metadata": {},
     "output_type": "execute_result"
    }
   ],
   "source": [
    "# dict ['key'] = value\n",
    "\n",
    "dictionary_3['sean'] = '777 State Street'\n",
    "\n",
    "dictionary_3"
   ]
  },
  {
   "cell_type": "markdown",
   "metadata": {},
   "source": [
    "##### Removing Key, Value Pairs"
   ]
  },
  {
   "cell_type": "code",
   "execution_count": 33,
   "metadata": {},
   "outputs": [
    {
     "data": {
      "text/plain": [
       "{'joe': '123 Real Street',\n",
       " 'annie': '321 Fake Street',\n",
       " 'sean': '777 State Street'}"
      ]
     },
     "execution_count": 33,
     "metadata": {},
     "output_type": "execute_result"
    }
   ],
   "source": [
    "# del dict[key]\n",
    "\n",
    "del dictionary_3[1]\n",
    "\n",
    "dictionary_3"
   ]
  },
  {
   "cell_type": "markdown",
   "metadata": {},
   "source": [
    "##### Looping a Dictionary"
   ]
  },
  {
   "cell_type": "code",
   "execution_count": 37,
   "metadata": {
    "scrolled": true
   },
   "outputs": [
    {
     "name": "stdout",
     "output_type": "stream",
     "text": [
      "joe\n",
      "annie\n",
      "sean\n"
     ]
    }
   ],
   "source": [
    "for x in dictionary_3:\n",
    "  print(x)"
   ]
  },
  {
   "cell_type": "code",
   "execution_count": null,
   "metadata": {},
   "outputs": [],
   "source": [
    "\n"
   ]
  },
  {
   "cell_type": "code",
   "execution_count": 44,
   "metadata": {},
   "outputs": [
    {
     "name": "stdout",
     "output_type": "stream",
     "text": [
      "('joe', '123 Real Street')\n",
      "<class 'tuple'>\n",
      "('annie', '321 Fake Street')\n",
      "<class 'tuple'>\n",
      "('sean', '777 State Street')\n",
      "<class 'tuple'>\n"
     ]
    }
   ],
   "source": [
    "# .items()\n",
    "# a, b, c = 1, 2, 3\n",
    "# print(a)\n",
    "# print(b)\n",
    "# print(c)\n",
    "\n",
    "for item in dictionary_3.items():\n",
    "    print(item)\n",
    "    print(type(item))\n",
    "\n",
    "\n"
   ]
  },
  {
   "cell_type": "code",
   "execution_count": 48,
   "metadata": {},
   "outputs": [
    {
     "name": "stdout",
     "output_type": "stream",
     "text": [
      "key: joe\n",
      "value: 123 Real Street\n",
      "=======\n",
      "key: annie\n",
      "value: 321 Fake Street\n",
      "=======\n",
      "key: sean\n",
      "value: 777 State Street\n",
      "=======\n"
     ]
    }
   ],
   "source": [
    "for k, v in dictionary_3.items():\n",
    "    print('key:', k)\n",
    "    print('value:', v)\n",
    "    print('=======')"
   ]
  },
  {
   "cell_type": "markdown",
   "metadata": {},
   "source": [
    "##### Looping Only Keys"
   ]
  },
  {
   "cell_type": "code",
   "execution_count": 50,
   "metadata": {},
   "outputs": [
    {
     "name": "stdout",
     "output_type": "stream",
     "text": [
      "joe\n",
      "annie\n",
      "sean\n"
     ]
    }
   ],
   "source": [
    "# .keys()\n",
    "\n",
    "for key in dictionary_3.keys():\n",
    "    print(key)\n",
    "\n"
   ]
  },
  {
   "cell_type": "markdown",
   "metadata": {},
   "source": [
    "##### Looping Only Values"
   ]
  },
  {
   "cell_type": "code",
   "execution_count": 51,
   "metadata": {},
   "outputs": [
    {
     "name": "stdout",
     "output_type": "stream",
     "text": [
      "123 Real Street\n",
      "321 Fake Street\n",
      "777 State Street\n"
     ]
    }
   ],
   "source": [
    "# .values()\n",
    "\n",
    "for key in dictionary_3.values():\n",
    "    print(key)\n"
   ]
  },
  {
   "cell_type": "markdown",
   "metadata": {},
   "source": [
    "## In-Class Exercise #2 - Create a Function that Prints All Key Value Pairs within a print .format() <br>\n",
    "<p><b>Output should be:</b><br>\n",
    "Max has blue eyes<br>\n",
    "Lilly has brown eyes<br>\n",
    "Barney has blue eyes<br>\n",
    "etc.\n",
    "</p>"
   ]
  },
  {
   "cell_type": "code",
   "execution_count": 57,
   "metadata": {},
   "outputs": [
    {
     "ename": "IndentationError",
     "evalue": "unexpected indent (<ipython-input-57-a12db4e5f171>, line 14)",
     "output_type": "error",
     "traceback": [
      "\u001b[1;36m  File \u001b[1;32m\"<ipython-input-57-a12db4e5f171>\"\u001b[1;36m, line \u001b[1;32m14\u001b[0m\n\u001b[1;33m    for key in people.keys()\u001b[0m\n\u001b[1;37m    ^\u001b[0m\n\u001b[1;31mIndentationError\u001b[0m\u001b[1;31m:\u001b[0m unexpected indent\n"
     ]
    }
   ],
   "source": [
    "# use the dict below\n",
    "\n",
    "people = {\n",
    "    'Max': 'blue',\n",
    "    'Lilly': 'brown',\n",
    "    'Barney': 'blue',\n",
    "    'Larney': 'brown',\n",
    "    'Ted': 'purple'\n",
    "}\n",
    "\n",
    "# for name, color in people.items():\n",
    "#     print(f'{name} has {color} eyes')\n",
    "    \n",
    "    for key in people.keys()\n",
    "        print(f'{key} has people[key] eyes')\n",
    "    \n",
    "        \n",
    "    \n"
   ]
  },
  {
   "cell_type": "markdown",
   "metadata": {},
   "source": [
    "##### sorted()"
   ]
  },
  {
   "cell_type": "code",
   "execution_count": 59,
   "metadata": {},
   "outputs": [
    {
     "data": {
      "text/plain": [
       "[('Barney', 'blue'),\n",
       " ('Larney', 'brown'),\n",
       " ('Lilly', 'brown'),\n",
       " ('Max', 'blue'),\n",
       " ('Ted', 'purple')]"
      ]
     },
     "execution_count": 59,
     "metadata": {},
     "output_type": "execute_result"
    }
   ],
   "source": [
    "# sorts variables in order\n",
    "# sorted(dict.values()) or dict.keys() or dict.items()\n",
    "\n",
    "sorted(people.items())\n",
    "\n"
   ]
  },
  {
   "cell_type": "markdown",
   "metadata": {},
   "source": [
    "##### List with Dictionaries"
   ]
  },
  {
   "cell_type": "code",
   "execution_count": 67,
   "metadata": {},
   "outputs": [
    {
     "data": {
      "text/plain": [
       "'Hank'"
      ]
     },
     "execution_count": 67,
     "metadata": {},
     "output_type": "execute_result"
    }
   ],
   "source": [
    "names = ['Dave', 'Fred', 'Harry', 'Will', 1,2,3, {'random_guy': 'Hank', 'random_girl': 'Jill'}]\n",
    "\n",
    "names[7]['random_guy']"
   ]
  },
  {
   "cell_type": "markdown",
   "metadata": {},
   "source": [
    "##### Dictionaries with Lists"
   ]
  },
  {
   "cell_type": "code",
   "execution_count": 70,
   "metadata": {},
   "outputs": [
    {
     "data": {
      "text/plain": [
       "'javascript'"
      ]
     },
     "execution_count": 70,
     "metadata": {},
     "output_type": "execute_result"
    }
   ],
   "source": [
    "# be careful when using numbers as keys in dictionaries, don't confuse them with indexes\n",
    "\n",
    "random_data = {\n",
    "    'abc':[1,2,3],\n",
    "    2: ['python','javascript']\n",
    "}\n",
    "\n",
    "random_data[2][1]\n"
   ]
  },
  {
   "cell_type": "markdown",
   "metadata": {},
   "source": [
    "##### Dictionaries with Dictionaries"
   ]
  },
  {
   "cell_type": "code",
   "execution_count": 79,
   "metadata": {},
   "outputs": [
    {
     "ename": "SyntaxError",
     "evalue": "invalid syntax (<ipython-input-79-28e4662c37dd>, line 9)",
     "output_type": "error",
     "traceback": [
      "\u001b[1;36m  File \u001b[1;32m\"<ipython-input-79-28e4662c37dd>\"\u001b[1;36m, line \u001b[1;32m9\u001b[0m\n\u001b[1;33m    'shakes': {\u001b[0m\n\u001b[1;37m    ^\u001b[0m\n\u001b[1;31mSyntaxError\u001b[0m\u001b[1;31m:\u001b[0m invalid syntax\n"
     ]
    }
   ],
   "source": [
    "# to get values, must traverse through keys\n",
    "my_shoppe = {\n",
    "    'ice_cream': {\n",
    "        'Chocolate': 2.99,\n",
    "        'vanilla': 2.49,\n",
    "        'Oreo': 3.49\n",
    "    }\n",
    "    \n",
    "    'shakes': {\n",
    "        'chocolate': 4.99,\n",
    "        'vanilla': 4.99,\n",
    "        'Oreo'\n",
    "    }\n",
    "}\n",
    "\n",
    "my_shoppe['shakes']['chocolate']\n"
   ]
  },
  {
   "cell_type": "markdown",
   "metadata": {},
   "source": [
    "## Dictionaries vs. Lists (over time) Example of RUNTIME\n",
    "### When inputting values in a Dictionary vs List"
   ]
  },
  {
   "cell_type": "code",
   "execution_count": null,
   "metadata": {},
   "outputs": [],
   "source": [
    "import time\n",
    "\n",
    "\n",
    "# generate fake dictionary\n",
    "d = {}\n",
    "\n",
    "for i in range(10000000):\n",
    "    d[i] = 'value'\n",
    "    \n",
    "\n",
    "# generate fake list\n",
    "big_list = [x for x in range(10000000)]"
   ]
  },
  {
   "cell_type": "code",
   "execution_count": null,
   "metadata": {},
   "outputs": [],
   "source": [
    "# tracking time for dictionary\n",
    "start_time = time.time()\n",
    "\n",
    "print(d[9999999])\n",
    "\n",
    "end_time = time.time() - start_time\n",
    "\n",
    "print('Elapsed time for dictionary: {}'.format(end_time))\n",
    "\n",
    "\n",
    "# tracking time for list\n",
    "start_time = time.time()\n",
    "\n",
    "for i in range(len(big_list)):\n",
    "    if i == 9999999:\n",
    "        print(i)\n",
    "\n",
    "end_time = time.time() - start_time\n",
    "\n",
    "print('Elapsed time for list: {}'.format(end_time))"
   ]
  },
  {
   "cell_type": "markdown",
   "metadata": {},
   "source": [
    "## Exercise #3 - Write a Function that asks someone's name and address, and then stores that into a dictionary, and continues to do so until they choose to 'quit'. Once they quit, the program should print all names and addresses. <br>\n",
    "<p>\n",
    "<b>Proper steps:</b><br>\n",
    "step 1: write a function that takes in information and stores it in a dictionary<br>\n",
    "step 2: define an empty dictionary to work with<br>\n",
    "step 3: create our loop, which asks the user for information until they quit<br>\n",
    "step 4: ask for the information, and store it into variables<br>\n",
    "step 5: check if the user types quit<br>\n",
    "step 5a: print out all information<br>\n",
    "step 5b: break out of the loop<br>\n",
    "step 6: if they didn't quit, add the information to the dictionary<br>\n",
    "step 7: invoke the function by calling it\n",
    "</p>"
   ]
  },
  {
   "cell_type": "code",
   "execution_count": null,
   "metadata": {},
   "outputs": [],
   "source": [
    "from IPython.display import clear_output\n",
    "\n",
    "# step 1: \n",
    "def address_book():\n",
    "# step 2:\n",
    "    address_list = {}\n",
    "# step 3: \n",
    "    for a,b in address_list:\n",
    "        name = input('What is your name? ')\n",
    "        clear.output\n",
    "        address = input ('What is your address')\n",
    "# step 4: \n",
    "# step 5: \n",
    "# step 5a: \n",
    "# step 5b:\n",
    "# step 6: \n",
    "# step 7:\n"
   ]
  },
  {
   "cell_type": "markdown",
   "metadata": {},
   "source": [
    "## Set <br>\n",
    "<p>A Set is an unordered collection data type that is iterable (loop), mutable, and has no duplicate elements.<br>Major advantage is that it is highly optimized in checking if something is in the set, as opposed to checking if something is in a list.</p>"
   ]
  },
  {
   "cell_type": "markdown",
   "metadata": {},
   "source": [
    "##### Declaring"
   ]
  },
  {
   "cell_type": "code",
   "execution_count": 80,
   "metadata": {
    "scrolled": true
   },
   "outputs": [
    {
     "name": "stdout",
     "output_type": "stream",
     "text": [
      "set()\n"
     ]
    }
   ],
   "source": [
    "# set() or {}\n",
    "# no order {3, 2, 1} outputs as {1, 2, 3}\n",
    "\n",
    "empty_set = set()\n",
    "print(empty_set)\n",
    "\n",
    "set1 = \n"
   ]
  },
  {
   "cell_type": "code",
   "execution_count": 84,
   "metadata": {},
   "outputs": [
    {
     "name": "stdout",
     "output_type": "stream",
     "text": [
      "1\n",
      "2\n",
      "3\n",
      "4\n",
      "5\n"
     ]
    }
   ],
   "source": [
    "set3 = {1,3,2,4,5,1,4,5}\n",
    "\n",
    "for num in set3:\n",
    "    print(num)"
   ]
  },
  {
   "cell_type": "markdown",
   "metadata": {},
   "source": [
    "##### .add()"
   ]
  },
  {
   "cell_type": "code",
   "execution_count": 82,
   "metadata": {},
   "outputs": [
    {
     "name": "stdout",
     "output_type": "stream",
     "text": [
      "{1, 2, 3, 4, 5, 56}\n"
     ]
    }
   ],
   "source": [
    "# set.add()\n",
    "\n",
    "set3 = {1,3,2,4,5,1,4,5}\n",
    "\n",
    "set3.add(56)\n",
    "\n",
    "print(set3)"
   ]
  },
  {
   "cell_type": "markdown",
   "metadata": {},
   "source": [
    "##### .remove()"
   ]
  },
  {
   "cell_type": "code",
   "execution_count": 86,
   "metadata": {},
   "outputs": [
    {
     "name": "stdout",
     "output_type": "stream",
     "text": [
      "{1, 2, 3, 4, 5}\n"
     ]
    }
   ],
   "source": [
    "# removes by value\n",
    "# set.remove()\n",
    "# nums.remove(56)\n",
    "\n",
    "set3 = {1,3,2,4,5,1,4,56}\n",
    "\n",
    "set3.remove(56)\n",
    "\n",
    "print(set3)\n"
   ]
  },
  {
   "cell_type": "markdown",
   "metadata": {},
   "source": [
    "##### .union() "
   ]
  },
  {
   "cell_type": "code",
   "execution_count": 91,
   "metadata": {},
   "outputs": [
    {
     "name": "stdout",
     "output_type": "stream",
     "text": [
      "{1, 2, 3, 4, 5, 6}\n",
      "{1, 2, 3, 4, 5, 6}\n"
     ]
    }
   ],
   "source": [
    "# Returns a union of two sets, can also use '|' or set.union(set)\n",
    "# joins all numbers, gets rid of duplicates\n",
    "\n",
    "set1 = {1,2,3,4}\n",
    "set2 = {3,4,5,6}\n",
    "\n",
    "s3 = set1.union(set2)\n",
    "\n",
    "print(s3)\n",
    "\n",
    "#\n",
    "\n",
    "s4 = set1 | set2\n",
    "print(s4)\n"
   ]
  },
  {
   "cell_type": "markdown",
   "metadata": {},
   "source": [
    "##### .intersection()"
   ]
  },
  {
   "cell_type": "code",
   "execution_count": 96,
   "metadata": {},
   "outputs": [
    {
     "name": "stdout",
     "output_type": "stream",
     "text": [
      "{3, 4}\n",
      "{3, 4}\n"
     ]
    }
   ],
   "source": [
    "# Returns an intersection of two sets, can also use '&'\n",
    "# only takes similar elements from both sets\n",
    "\n",
    "s5 = set1.intersection(set2)\n",
    "print(s5)\n",
    "\n",
    "#\n",
    "\n",
    "s6 = set1 & set2\n",
    "print (s6)\n",
    "\n"
   ]
  },
  {
   "cell_type": "markdown",
   "metadata": {},
   "source": [
    "##### .difference()"
   ]
  },
  {
   "cell_type": "code",
   "execution_count": 98,
   "metadata": {},
   "outputs": [
    {
     "name": "stdout",
     "output_type": "stream",
     "text": [
      "{1, 2}\n",
      "{1, 2}\n"
     ]
    }
   ],
   "source": [
    "# Returns a set containing all the elements of invoking set that are not in the second set, can also use '-'\n",
    "# only takes values from the first set that are not in the second set\n",
    "# order matters\n",
    "\n",
    "s7 = set1.difference(set2)\n",
    "print(s7)\n",
    "\n",
    "s9 = set1 - set2\n",
    "print(s9)\n",
    "\n",
    "\n"
   ]
  },
  {
   "cell_type": "markdown",
   "metadata": {},
   "source": [
    "##### .clear()"
   ]
  },
  {
   "cell_type": "code",
   "execution_count": 99,
   "metadata": {},
   "outputs": [
    {
     "name": "stdout",
     "output_type": "stream",
     "text": [
      "set()\n"
     ]
    }
   ],
   "source": [
    "# Empties the whole set\n",
    "# set.clear()\n",
    "\n",
    "set1.clear()\n",
    "print(set1)\n"
   ]
  },
  {
   "cell_type": "markdown",
   "metadata": {},
   "source": [
    "##### Frozenset <br>\n",
    "<p>Frozen sets are immutable objects that only support methods and operators that produce a result without affecting the frozen set or sets to which they are applied.</p><br><b>Unique & Immutable</b>"
   ]
  },
  {
   "cell_type": "code",
   "execution_count": 101,
   "metadata": {},
   "outputs": [],
   "source": [
    "# frozenset([])\n",
    "\n",
    "\n"
   ]
  },
  {
   "cell_type": "markdown",
   "metadata": {},
   "source": [
    "## Modules"
   ]
  },
  {
   "cell_type": "markdown",
   "metadata": {},
   "source": [
    "##### Importing Entire Modules"
   ]
  },
  {
   "cell_type": "code",
   "execution_count": 102,
   "metadata": {},
   "outputs": [
    {
     "name": "stdout",
     "output_type": "stream",
     "text": [
      "<module 'math' (built-in)>\n"
     ]
    }
   ],
   "source": [
    "# import or from 'xxx' import *\n",
    "import math\n",
    "\n",
    "print(math)\n",
    "\n"
   ]
  },
  {
   "cell_type": "markdown",
   "metadata": {},
   "source": [
    "##### Importing Methods Only"
   ]
  },
  {
   "cell_type": "code",
   "execution_count": null,
   "metadata": {},
   "outputs": [],
   "source": [
    "# from 'xxx' import 'xxx'\n",
    "# from math import floor\n",
    "\n",
    "\n"
   ]
  },
  {
   "cell_type": "markdown",
   "metadata": {},
   "source": [
    "##### Using the 'as' Keyword"
   ]
  },
  {
   "cell_type": "code",
   "execution_count": null,
   "metadata": {},
   "outputs": [],
   "source": [
    "# from 'xxx' import 'xxx' as 'xxx' or import 'xxx' as 'xxx'\n",
    "# from math import floor as f\n"
   ]
  },
  {
   "cell_type": "markdown",
   "metadata": {},
   "source": [
    "##### Creating a Module"
   ]
  },
  {
   "cell_type": "code",
   "execution_count": null,
   "metadata": {},
   "outputs": [],
   "source": []
  },
  {
   "cell_type": "markdown",
   "metadata": {},
   "source": [
    "# Exercises"
   ]
  },
  {
   "cell_type": "markdown",
   "metadata": {},
   "source": [
    "### 1) Build a Shopping Cart <br>\n",
    "<p><b>You can use either lists or dictionaries. The program should have the following capabilities:</b><br><br>\n",
    "1) Takes in input <br>\n",
    "2) Stores user input into a dictionary or list <br>\n",
    "3) The User can add or delete items <br>\n",
    "4) The User can see current shopping list <br>\n",
    "5) The program Loops until user 'quits' <br>\n",
    "6) Upon quiting the program, print out all items in the user's list <br>\n",
    "</p>"
   ]
  },
  {
   "cell_type": "code",
   "execution_count": null,
   "metadata": {
    "scrolled": true
   },
   "outputs": [
    {
     "name": "stdout",
     "output_type": "stream",
     "text": [
      "Would you like to show, add, delete, quit? nothing\n",
      "Must choose from options!\n"
     ]
    }
   ],
   "source": [
    "from IPython.display import clear_output\n",
    "\n",
    "# Ask the user four bits of input: Do you want to : Show/Add/Delete or Quit?\n",
    "# Use helper functions\n",
    "\n",
    "\n",
    "def shopping_list(): \n",
    "    my_shopping_list = []\n",
    "    \n",
    "    while True:\n",
    "        action = input('Would you like to show, add, delete, quit? ')\n",
    "        if action == 'show':\n",
    "            for s in my_shopping_list:\n",
    "                print(my_shopping_list)\n",
    "                \n",
    "        if action.lower() == 'add':\n",
    "            added_item = input(\"What would you like to add? \" )\n",
    "            my_shopping_list.append(added_item)\n",
    "            print(f'{added_item} was added.')\n",
    "            \n",
    "        if action.lower() == 'delete':\n",
    "            deleted_item = input (\"Which item would you like to remove\")\n",
    "            my_shopping_list.remove(deleted_item)\n",
    "            print(f'{deleted_item} was removed.')\n",
    "            \n",
    "        if action.lower() == 'quit':\n",
    "            break\n",
    "            \n",
    "        if action.lower() != 'show' or 'add' or 'delete' or 'quit':\n",
    "            print(\"Must choose from options!\" )\n",
    "    \n",
    "shopping_list()\n"
   ]
  },
  {
   "cell_type": "code",
   "execution_count": null,
   "metadata": {},
   "outputs": [],
   "source": []
  },
  {
   "cell_type": "markdown",
   "metadata": {},
   "source": [
    "### 2) Create a Module in VS Code and Import It into jupyter notebook <br>\n",
    "<p><b>Module should have the following capabilities:</b><br><br>\n",
    "1) Has a function to calculate the square footage of a house <br>\n",
    "    <b>Reminder of Formula: Length X Width == Area<br>\n",
    "        <hr>\n",
    "2) Has a function to calculate the circumference of a circle <br><br>\n",
    "<b>Program in Jupyter Notebook should take in user input and use imported functions to calculate a circle's circumference or a houses square footage</b>\n",
    "</p>"
   ]
  },
  {
   "cell_type": "code",
   "execution_count": 113,
   "metadata": {},
   "outputs": [
    {
     "name": "stdout",
     "output_type": "stream",
     "text": [
      "What is the length? 10\n",
      "What is the width? 5\n"
     ]
    }
   ],
   "source": [
    "import example\n",
    "\n",
    "example.area_house()\n",
    "\n"
   ]
  },
  {
   "cell_type": "code",
   "execution_count": null,
   "metadata": {},
   "outputs": [],
   "source": []
  }
 ],
 "metadata": {
  "kernelspec": {
   "display_name": "Python 3",
   "language": "python",
   "name": "python3"
  }
 },
 "nbformat": 4,
 "nbformat_minor": 2
}
